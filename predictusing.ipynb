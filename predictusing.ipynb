{
  "cells": [
    {
      "cell_type": "code",
      "source": [
        "pip install --upgrade tensorflow\n"
      ],
      "metadata": {
        "colab": {
          "base_uri": "https://localhost:8080/"
        },
        "id": "jpoLE7gGOSmv",
        "outputId": "5a72e5c3-f27d-4f38-f787-fab564224a24"
      },
      "execution_count": null,
      "outputs": [
        {
          "output_type": "stream",
          "name": "stdout",
          "text": [
            "Requirement already satisfied: tensorflow in /usr/local/lib/python3.10/dist-packages (2.15.0)\n",
            "Collecting tensorflow\n",
            "  Downloading tensorflow-2.15.0.post1-cp310-cp310-manylinux_2_17_x86_64.manylinux2014_x86_64.whl (475.2 MB)\n",
            "\u001b[2K     \u001b[90m━━━━━━━━━━━━━━━━━━━━━━━━━━━━━━━━━━━━━━━━\u001b[0m \u001b[32m475.2/475.2 MB\u001b[0m \u001b[31m2.7 MB/s\u001b[0m eta \u001b[36m0:00:00\u001b[0m\n",
            "\u001b[?25hRequirement already satisfied: absl-py>=1.0.0 in /usr/local/lib/python3.10/dist-packages (from tensorflow) (1.4.0)\n",
            "Requirement already satisfied: astunparse>=1.6.0 in /usr/local/lib/python3.10/dist-packages (from tensorflow) (1.6.3)\n",
            "Requirement already satisfied: flatbuffers>=23.5.26 in /usr/local/lib/python3.10/dist-packages (from tensorflow) (23.5.26)\n",
            "Requirement already satisfied: gast!=0.5.0,!=0.5.1,!=0.5.2,>=0.2.1 in /usr/local/lib/python3.10/dist-packages (from tensorflow) (0.5.4)\n",
            "Requirement already satisfied: google-pasta>=0.1.1 in /usr/local/lib/python3.10/dist-packages (from tensorflow) (0.2.0)\n",
            "Requirement already satisfied: h5py>=2.9.0 in /usr/local/lib/python3.10/dist-packages (from tensorflow) (3.9.0)\n",
            "Requirement already satisfied: libclang>=13.0.0 in /usr/local/lib/python3.10/dist-packages (from tensorflow) (16.0.6)\n",
            "Requirement already satisfied: ml-dtypes~=0.2.0 in /usr/local/lib/python3.10/dist-packages (from tensorflow) (0.2.0)\n",
            "Requirement already satisfied: numpy<2.0.0,>=1.23.5 in /usr/local/lib/python3.10/dist-packages (from tensorflow) (1.23.5)\n",
            "Requirement already satisfied: opt-einsum>=2.3.2 in /usr/local/lib/python3.10/dist-packages (from tensorflow) (3.3.0)\n",
            "Requirement already satisfied: packaging in /usr/local/lib/python3.10/dist-packages (from tensorflow) (23.2)\n",
            "Requirement already satisfied: protobuf!=4.21.0,!=4.21.1,!=4.21.2,!=4.21.3,!=4.21.4,!=4.21.5,<5.0.0dev,>=3.20.3 in /usr/local/lib/python3.10/dist-packages (from tensorflow) (3.20.3)\n",
            "Requirement already satisfied: setuptools in /usr/local/lib/python3.10/dist-packages (from tensorflow) (67.7.2)\n",
            "Requirement already satisfied: six>=1.12.0 in /usr/local/lib/python3.10/dist-packages (from tensorflow) (1.16.0)\n",
            "Requirement already satisfied: termcolor>=1.1.0 in /usr/local/lib/python3.10/dist-packages (from tensorflow) (2.4.0)\n",
            "Requirement already satisfied: typing-extensions>=3.6.6 in /usr/local/lib/python3.10/dist-packages (from tensorflow) (4.5.0)\n",
            "Requirement already satisfied: wrapt<1.15,>=1.11.0 in /usr/local/lib/python3.10/dist-packages (from tensorflow) (1.14.1)\n",
            "Requirement already satisfied: tensorflow-io-gcs-filesystem>=0.23.1 in /usr/local/lib/python3.10/dist-packages (from tensorflow) (0.35.0)\n",
            "Requirement already satisfied: grpcio<2.0,>=1.24.3 in /usr/local/lib/python3.10/dist-packages (from tensorflow) (1.60.0)\n",
            "Requirement already satisfied: tensorboard<2.16,>=2.15 in /usr/local/lib/python3.10/dist-packages (from tensorflow) (2.15.1)\n",
            "Requirement already satisfied: tensorflow-estimator<2.16,>=2.15.0 in /usr/local/lib/python3.10/dist-packages (from tensorflow) (2.15.0)\n",
            "Requirement already satisfied: keras<2.16,>=2.15.0 in /usr/local/lib/python3.10/dist-packages (from tensorflow) (2.15.0)\n",
            "Requirement already satisfied: wheel<1.0,>=0.23.0 in /usr/local/lib/python3.10/dist-packages (from astunparse>=1.6.0->tensorflow) (0.42.0)\n",
            "Requirement already satisfied: google-auth<3,>=1.6.3 in /usr/local/lib/python3.10/dist-packages (from tensorboard<2.16,>=2.15->tensorflow) (2.17.3)\n",
            "Requirement already satisfied: google-auth-oauthlib<2,>=0.5 in /usr/local/lib/python3.10/dist-packages (from tensorboard<2.16,>=2.15->tensorflow) (1.2.0)\n",
            "Requirement already satisfied: markdown>=2.6.8 in /usr/local/lib/python3.10/dist-packages (from tensorboard<2.16,>=2.15->tensorflow) (3.5.2)\n",
            "Requirement already satisfied: requests<3,>=2.21.0 in /usr/local/lib/python3.10/dist-packages (from tensorboard<2.16,>=2.15->tensorflow) (2.31.0)\n",
            "Requirement already satisfied: tensorboard-data-server<0.8.0,>=0.7.0 in /usr/local/lib/python3.10/dist-packages (from tensorboard<2.16,>=2.15->tensorflow) (0.7.2)\n",
            "Requirement already satisfied: werkzeug>=1.0.1 in /usr/local/lib/python3.10/dist-packages (from tensorboard<2.16,>=2.15->tensorflow) (3.0.1)\n",
            "Requirement already satisfied: cachetools<6.0,>=2.0.0 in /usr/local/lib/python3.10/dist-packages (from google-auth<3,>=1.6.3->tensorboard<2.16,>=2.15->tensorflow) (5.3.2)\n",
            "Requirement already satisfied: pyasn1-modules>=0.2.1 in /usr/local/lib/python3.10/dist-packages (from google-auth<3,>=1.6.3->tensorboard<2.16,>=2.15->tensorflow) (0.3.0)\n",
            "Requirement already satisfied: rsa<5,>=3.1.4 in /usr/local/lib/python3.10/dist-packages (from google-auth<3,>=1.6.3->tensorboard<2.16,>=2.15->tensorflow) (4.9)\n",
            "Requirement already satisfied: requests-oauthlib>=0.7.0 in /usr/local/lib/python3.10/dist-packages (from google-auth-oauthlib<2,>=0.5->tensorboard<2.16,>=2.15->tensorflow) (1.3.1)\n",
            "Requirement already satisfied: charset-normalizer<4,>=2 in /usr/local/lib/python3.10/dist-packages (from requests<3,>=2.21.0->tensorboard<2.16,>=2.15->tensorflow) (3.3.2)\n",
            "Requirement already satisfied: idna<4,>=2.5 in /usr/local/lib/python3.10/dist-packages (from requests<3,>=2.21.0->tensorboard<2.16,>=2.15->tensorflow) (3.6)\n",
            "Requirement already satisfied: urllib3<3,>=1.21.1 in /usr/local/lib/python3.10/dist-packages (from requests<3,>=2.21.0->tensorboard<2.16,>=2.15->tensorflow) (2.0.7)\n",
            "Requirement already satisfied: certifi>=2017.4.17 in /usr/local/lib/python3.10/dist-packages (from requests<3,>=2.21.0->tensorboard<2.16,>=2.15->tensorflow) (2023.11.17)\n",
            "Requirement already satisfied: MarkupSafe>=2.1.1 in /usr/local/lib/python3.10/dist-packages (from werkzeug>=1.0.1->tensorboard<2.16,>=2.15->tensorflow) (2.1.3)\n",
            "Requirement already satisfied: pyasn1<0.6.0,>=0.4.6 in /usr/local/lib/python3.10/dist-packages (from pyasn1-modules>=0.2.1->google-auth<3,>=1.6.3->tensorboard<2.16,>=2.15->tensorflow) (0.5.1)\n",
            "Requirement already satisfied: oauthlib>=3.0.0 in /usr/local/lib/python3.10/dist-packages (from requests-oauthlib>=0.7.0->google-auth-oauthlib<2,>=0.5->tensorboard<2.16,>=2.15->tensorflow) (3.2.2)\n",
            "Installing collected packages: tensorflow\n",
            "  Attempting uninstall: tensorflow\n",
            "    Found existing installation: tensorflow 2.15.0\n",
            "    Uninstalling tensorflow-2.15.0:\n",
            "      Successfully uninstalled tensorflow-2.15.0\n",
            "Successfully installed tensorflow-2.15.0.post1\n"
          ]
        }
      ]
    },
    {
      "cell_type": "code",
      "execution_count": null,
      "metadata": {
        "id": "jLYqdONHHM7r"
      },
      "outputs": [],
      "source": [
        "import pandas as pd\n",
        "import numpy as np\n",
        "import seaborn as sns\n",
        "import matplotlib.pyplot as plt\n",
        "from sklearn.model_selection import train_test_split, GridSearchCV, RandomizedSearchCV\n",
        "from sklearn.preprocessing import StandardScaler, LabelEncoder, OneHotEncoder\n",
        "from sklearn.metrics import accuracy_score, classification_report, confusion_matrix\n",
        "from keras.utils import to_categorical\n",
        "from tensorflow.keras.models import Sequential, load_model\n",
        "from tensorflow.keras.layers import Dense, LSTM, Embedding, Flatten, Concatenate,Dropout\n",
        "from tensorflow.keras.optimizers import Adam\n",
        "from joblib import dump, load\n",
        "import joblib\n",
        "from tensorflow.keras.callbacks import LearningRateScheduler, EarlyStopping\n",
        "import datetime"
      ]
    },
    {
      "cell_type": "code",
      "execution_count": null,
      "metadata": {
        "id": "5o5YDqYRlJDw"
      },
      "outputs": [],
      "source": [
        "df = pd.read_csv(\"datasetFixMyRide.csv\")"
      ]
    },
    {
      "cell_type": "code",
      "execution_count": null,
      "metadata": {
        "colab": {
          "base_uri": "https://localhost:8080/"
        },
        "id": "_IGaE3Bffl2S",
        "outputId": "fe4c29fc-a5a0-4feb-d113-c56d4a8ea5fc"
      },
      "outputs": [
        {
          "output_type": "stream",
          "name": "stdout",
          "text": [
            "<class 'pandas.core.frame.DataFrame'>\n",
            "RangeIndex: 550 entries, 0 to 549\n",
            "Data columns (total 10 columns):\n",
            " #   Column              Non-Null Count  Dtype \n",
            "---  ------              --------------  ----- \n",
            " 0   gejala1             550 non-null    object\n",
            " 1   gejala2             550 non-null    object\n",
            " 2   gejala3             550 non-null    object\n",
            " 3   jenis_motor         550 non-null    object\n",
            " 4   merk_motor          550 non-null    object\n",
            " 5   tahun               550 non-null    int64 \n",
            " 6   km_motor            550 non-null    int64 \n",
            " 7   pernah_servis       550 non-null    object\n",
            " 8   permasalahan_motor  550 non-null    object\n",
            " 9   solusi              550 non-null    object\n",
            "dtypes: int64(2), object(8)\n",
            "memory usage: 43.1+ KB\n",
            "None\n"
          ]
        }
      ],
      "source": [
        "print(df.info())"
      ]
    },
    {
      "cell_type": "code",
      "execution_count": null,
      "metadata": {
        "colab": {
          "base_uri": "https://localhost:8080/",
          "height": 293
        },
        "id": "7dcW_o1jJAnH",
        "outputId": "e2d08b92-0b1d-430f-db2f-8c1be581bccb"
      },
      "outputs": [
        {
          "output_type": "execute_result",
          "data": {
            "text/plain": [
              "                    gejala1               gejala2  \\\n",
              "0             kebocoran oli            suara aneh   \n",
              "1          hilangnya tenaga       asap berlebihan   \n",
              "2              rem berderit  idling tidak teratur   \n",
              "3     bau aneh dari knalpot   mesin terlalu panas   \n",
              "4  kesulitan berpindah gigi         getaran mesin   \n",
              "\n",
              "                       gejala3 jenis_motor merk_motor  tahun  km_motor  \\\n",
              "0              sulit distarter       matic     yamaha   2019     15000   \n",
              "1          mesin mati mendadak       matic      honda   2020     18000   \n",
              "2                    tidak ada        gigi     suzuki   2018     20000   \n",
              "3  konsumsi bahan bakar tinggi        gigi     yamaha   2017     22000   \n",
              "4     suara berisik dari mesin        gigi      honda   2019     25000   \n",
              "\n",
              "  pernah_servis          permasalahan_motor  \\\n",
              "0            ya               masalah mesin   \n",
              "1            ya  masalah sistem bahan bakar   \n",
              "2            ya                 masalah rem   \n",
              "3         tidak             masalah knalpot   \n",
              "4            ya           masalah transmisi   \n",
              "\n",
              "                                              solusi  \n",
              "0  perbaiki kebocoran oli dan ganti starter yang ...  \n",
              "1  bersihkan injektor bahan bakar dan ganti filte...  \n",
              "2         ganti bantalan rem dan lumasi komponen rem  \n",
              "3             periksa dan perbaiki sistem pembuangan  \n",
              "4  periksa dan ganti cairan transmisi atau lakuka...  "
            ],
            "text/html": [
              "\n",
              "  <div id=\"df-0b817dc8-b387-4cd6-a116-031c0138962d\" class=\"colab-df-container\">\n",
              "    <div>\n",
              "<style scoped>\n",
              "    .dataframe tbody tr th:only-of-type {\n",
              "        vertical-align: middle;\n",
              "    }\n",
              "\n",
              "    .dataframe tbody tr th {\n",
              "        vertical-align: top;\n",
              "    }\n",
              "\n",
              "    .dataframe thead th {\n",
              "        text-align: right;\n",
              "    }\n",
              "</style>\n",
              "<table border=\"1\" class=\"dataframe\">\n",
              "  <thead>\n",
              "    <tr style=\"text-align: right;\">\n",
              "      <th></th>\n",
              "      <th>gejala1</th>\n",
              "      <th>gejala2</th>\n",
              "      <th>gejala3</th>\n",
              "      <th>jenis_motor</th>\n",
              "      <th>merk_motor</th>\n",
              "      <th>tahun</th>\n",
              "      <th>km_motor</th>\n",
              "      <th>pernah_servis</th>\n",
              "      <th>permasalahan_motor</th>\n",
              "      <th>solusi</th>\n",
              "    </tr>\n",
              "  </thead>\n",
              "  <tbody>\n",
              "    <tr>\n",
              "      <th>0</th>\n",
              "      <td>kebocoran oli</td>\n",
              "      <td>suara aneh</td>\n",
              "      <td>sulit distarter</td>\n",
              "      <td>matic</td>\n",
              "      <td>yamaha</td>\n",
              "      <td>2019</td>\n",
              "      <td>15000</td>\n",
              "      <td>ya</td>\n",
              "      <td>masalah mesin</td>\n",
              "      <td>perbaiki kebocoran oli dan ganti starter yang ...</td>\n",
              "    </tr>\n",
              "    <tr>\n",
              "      <th>1</th>\n",
              "      <td>hilangnya tenaga</td>\n",
              "      <td>asap berlebihan</td>\n",
              "      <td>mesin mati mendadak</td>\n",
              "      <td>matic</td>\n",
              "      <td>honda</td>\n",
              "      <td>2020</td>\n",
              "      <td>18000</td>\n",
              "      <td>ya</td>\n",
              "      <td>masalah sistem bahan bakar</td>\n",
              "      <td>bersihkan injektor bahan bakar dan ganti filte...</td>\n",
              "    </tr>\n",
              "    <tr>\n",
              "      <th>2</th>\n",
              "      <td>rem berderit</td>\n",
              "      <td>idling tidak teratur</td>\n",
              "      <td>tidak ada</td>\n",
              "      <td>gigi</td>\n",
              "      <td>suzuki</td>\n",
              "      <td>2018</td>\n",
              "      <td>20000</td>\n",
              "      <td>ya</td>\n",
              "      <td>masalah rem</td>\n",
              "      <td>ganti bantalan rem dan lumasi komponen rem</td>\n",
              "    </tr>\n",
              "    <tr>\n",
              "      <th>3</th>\n",
              "      <td>bau aneh dari knalpot</td>\n",
              "      <td>mesin terlalu panas</td>\n",
              "      <td>konsumsi bahan bakar tinggi</td>\n",
              "      <td>gigi</td>\n",
              "      <td>yamaha</td>\n",
              "      <td>2017</td>\n",
              "      <td>22000</td>\n",
              "      <td>tidak</td>\n",
              "      <td>masalah knalpot</td>\n",
              "      <td>periksa dan perbaiki sistem pembuangan</td>\n",
              "    </tr>\n",
              "    <tr>\n",
              "      <th>4</th>\n",
              "      <td>kesulitan berpindah gigi</td>\n",
              "      <td>getaran mesin</td>\n",
              "      <td>suara berisik dari mesin</td>\n",
              "      <td>gigi</td>\n",
              "      <td>honda</td>\n",
              "      <td>2019</td>\n",
              "      <td>25000</td>\n",
              "      <td>ya</td>\n",
              "      <td>masalah transmisi</td>\n",
              "      <td>periksa dan ganti cairan transmisi atau lakuka...</td>\n",
              "    </tr>\n",
              "  </tbody>\n",
              "</table>\n",
              "</div>\n",
              "    <div class=\"colab-df-buttons\">\n",
              "\n",
              "  <div class=\"colab-df-container\">\n",
              "    <button class=\"colab-df-convert\" onclick=\"convertToInteractive('df-0b817dc8-b387-4cd6-a116-031c0138962d')\"\n",
              "            title=\"Convert this dataframe to an interactive table.\"\n",
              "            style=\"display:none;\">\n",
              "\n",
              "  <svg xmlns=\"http://www.w3.org/2000/svg\" height=\"24px\" viewBox=\"0 -960 960 960\">\n",
              "    <path d=\"M120-120v-720h720v720H120Zm60-500h600v-160H180v160Zm220 220h160v-160H400v160Zm0 220h160v-160H400v160ZM180-400h160v-160H180v160Zm440 0h160v-160H620v160ZM180-180h160v-160H180v160Zm440 0h160v-160H620v160Z\"/>\n",
              "  </svg>\n",
              "    </button>\n",
              "\n",
              "  <style>\n",
              "    .colab-df-container {\n",
              "      display:flex;\n",
              "      gap: 12px;\n",
              "    }\n",
              "\n",
              "    .colab-df-convert {\n",
              "      background-color: #E8F0FE;\n",
              "      border: none;\n",
              "      border-radius: 50%;\n",
              "      cursor: pointer;\n",
              "      display: none;\n",
              "      fill: #1967D2;\n",
              "      height: 32px;\n",
              "      padding: 0 0 0 0;\n",
              "      width: 32px;\n",
              "    }\n",
              "\n",
              "    .colab-df-convert:hover {\n",
              "      background-color: #E2EBFA;\n",
              "      box-shadow: 0px 1px 2px rgba(60, 64, 67, 0.3), 0px 1px 3px 1px rgba(60, 64, 67, 0.15);\n",
              "      fill: #174EA6;\n",
              "    }\n",
              "\n",
              "    .colab-df-buttons div {\n",
              "      margin-bottom: 4px;\n",
              "    }\n",
              "\n",
              "    [theme=dark] .colab-df-convert {\n",
              "      background-color: #3B4455;\n",
              "      fill: #D2E3FC;\n",
              "    }\n",
              "\n",
              "    [theme=dark] .colab-df-convert:hover {\n",
              "      background-color: #434B5C;\n",
              "      box-shadow: 0px 1px 3px 1px rgba(0, 0, 0, 0.15);\n",
              "      filter: drop-shadow(0px 1px 2px rgba(0, 0, 0, 0.3));\n",
              "      fill: #FFFFFF;\n",
              "    }\n",
              "  </style>\n",
              "\n",
              "    <script>\n",
              "      const buttonEl =\n",
              "        document.querySelector('#df-0b817dc8-b387-4cd6-a116-031c0138962d button.colab-df-convert');\n",
              "      buttonEl.style.display =\n",
              "        google.colab.kernel.accessAllowed ? 'block' : 'none';\n",
              "\n",
              "      async function convertToInteractive(key) {\n",
              "        const element = document.querySelector('#df-0b817dc8-b387-4cd6-a116-031c0138962d');\n",
              "        const dataTable =\n",
              "          await google.colab.kernel.invokeFunction('convertToInteractive',\n",
              "                                                    [key], {});\n",
              "        if (!dataTable) return;\n",
              "\n",
              "        const docLinkHtml = 'Like what you see? Visit the ' +\n",
              "          '<a target=\"_blank\" href=https://colab.research.google.com/notebooks/data_table.ipynb>data table notebook</a>'\n",
              "          + ' to learn more about interactive tables.';\n",
              "        element.innerHTML = '';\n",
              "        dataTable['output_type'] = 'display_data';\n",
              "        await google.colab.output.renderOutput(dataTable, element);\n",
              "        const docLink = document.createElement('div');\n",
              "        docLink.innerHTML = docLinkHtml;\n",
              "        element.appendChild(docLink);\n",
              "      }\n",
              "    </script>\n",
              "  </div>\n",
              "\n",
              "\n",
              "<div id=\"df-ff627acf-6be7-4a21-bb12-0c6136c00a22\">\n",
              "  <button class=\"colab-df-quickchart\" onclick=\"quickchart('df-ff627acf-6be7-4a21-bb12-0c6136c00a22')\"\n",
              "            title=\"Suggest charts\"\n",
              "            style=\"display:none;\">\n",
              "\n",
              "<svg xmlns=\"http://www.w3.org/2000/svg\" height=\"24px\"viewBox=\"0 0 24 24\"\n",
              "     width=\"24px\">\n",
              "    <g>\n",
              "        <path d=\"M19 3H5c-1.1 0-2 .9-2 2v14c0 1.1.9 2 2 2h14c1.1 0 2-.9 2-2V5c0-1.1-.9-2-2-2zM9 17H7v-7h2v7zm4 0h-2V7h2v10zm4 0h-2v-4h2v4z\"/>\n",
              "    </g>\n",
              "</svg>\n",
              "  </button>\n",
              "\n",
              "<style>\n",
              "  .colab-df-quickchart {\n",
              "      --bg-color: #E8F0FE;\n",
              "      --fill-color: #1967D2;\n",
              "      --hover-bg-color: #E2EBFA;\n",
              "      --hover-fill-color: #174EA6;\n",
              "      --disabled-fill-color: #AAA;\n",
              "      --disabled-bg-color: #DDD;\n",
              "  }\n",
              "\n",
              "  [theme=dark] .colab-df-quickchart {\n",
              "      --bg-color: #3B4455;\n",
              "      --fill-color: #D2E3FC;\n",
              "      --hover-bg-color: #434B5C;\n",
              "      --hover-fill-color: #FFFFFF;\n",
              "      --disabled-bg-color: #3B4455;\n",
              "      --disabled-fill-color: #666;\n",
              "  }\n",
              "\n",
              "  .colab-df-quickchart {\n",
              "    background-color: var(--bg-color);\n",
              "    border: none;\n",
              "    border-radius: 50%;\n",
              "    cursor: pointer;\n",
              "    display: none;\n",
              "    fill: var(--fill-color);\n",
              "    height: 32px;\n",
              "    padding: 0;\n",
              "    width: 32px;\n",
              "  }\n",
              "\n",
              "  .colab-df-quickchart:hover {\n",
              "    background-color: var(--hover-bg-color);\n",
              "    box-shadow: 0 1px 2px rgba(60, 64, 67, 0.3), 0 1px 3px 1px rgba(60, 64, 67, 0.15);\n",
              "    fill: var(--button-hover-fill-color);\n",
              "  }\n",
              "\n",
              "  .colab-df-quickchart-complete:disabled,\n",
              "  .colab-df-quickchart-complete:disabled:hover {\n",
              "    background-color: var(--disabled-bg-color);\n",
              "    fill: var(--disabled-fill-color);\n",
              "    box-shadow: none;\n",
              "  }\n",
              "\n",
              "  .colab-df-spinner {\n",
              "    border: 2px solid var(--fill-color);\n",
              "    border-color: transparent;\n",
              "    border-bottom-color: var(--fill-color);\n",
              "    animation:\n",
              "      spin 1s steps(1) infinite;\n",
              "  }\n",
              "\n",
              "  @keyframes spin {\n",
              "    0% {\n",
              "      border-color: transparent;\n",
              "      border-bottom-color: var(--fill-color);\n",
              "      border-left-color: var(--fill-color);\n",
              "    }\n",
              "    20% {\n",
              "      border-color: transparent;\n",
              "      border-left-color: var(--fill-color);\n",
              "      border-top-color: var(--fill-color);\n",
              "    }\n",
              "    30% {\n",
              "      border-color: transparent;\n",
              "      border-left-color: var(--fill-color);\n",
              "      border-top-color: var(--fill-color);\n",
              "      border-right-color: var(--fill-color);\n",
              "    }\n",
              "    40% {\n",
              "      border-color: transparent;\n",
              "      border-right-color: var(--fill-color);\n",
              "      border-top-color: var(--fill-color);\n",
              "    }\n",
              "    60% {\n",
              "      border-color: transparent;\n",
              "      border-right-color: var(--fill-color);\n",
              "    }\n",
              "    80% {\n",
              "      border-color: transparent;\n",
              "      border-right-color: var(--fill-color);\n",
              "      border-bottom-color: var(--fill-color);\n",
              "    }\n",
              "    90% {\n",
              "      border-color: transparent;\n",
              "      border-bottom-color: var(--fill-color);\n",
              "    }\n",
              "  }\n",
              "</style>\n",
              "\n",
              "  <script>\n",
              "    async function quickchart(key) {\n",
              "      const quickchartButtonEl =\n",
              "        document.querySelector('#' + key + ' button');\n",
              "      quickchartButtonEl.disabled = true;  // To prevent multiple clicks.\n",
              "      quickchartButtonEl.classList.add('colab-df-spinner');\n",
              "      try {\n",
              "        const charts = await google.colab.kernel.invokeFunction(\n",
              "            'suggestCharts', [key], {});\n",
              "      } catch (error) {\n",
              "        console.error('Error during call to suggestCharts:', error);\n",
              "      }\n",
              "      quickchartButtonEl.classList.remove('colab-df-spinner');\n",
              "      quickchartButtonEl.classList.add('colab-df-quickchart-complete');\n",
              "    }\n",
              "    (() => {\n",
              "      let quickchartButtonEl =\n",
              "        document.querySelector('#df-ff627acf-6be7-4a21-bb12-0c6136c00a22 button');\n",
              "      quickchartButtonEl.style.display =\n",
              "        google.colab.kernel.accessAllowed ? 'block' : 'none';\n",
              "    })();\n",
              "  </script>\n",
              "</div>\n",
              "    </div>\n",
              "  </div>\n"
            ]
          },
          "metadata": {},
          "execution_count": 5
        }
      ],
      "source": [
        "df.head()"
      ]
    },
    {
      "cell_type": "code",
      "execution_count": null,
      "metadata": {
        "colab": {
          "base_uri": "https://localhost:8080/",
          "height": 300
        },
        "id": "CN_GD-MBIqni",
        "outputId": "fb11ae04-d808-4ac0-fefa-341b9a06e4ea"
      },
      "outputs": [
        {
          "output_type": "execute_result",
          "data": {
            "text/plain": [
              "             tahun      km_motor\n",
              "count   550.000000    550.000000\n",
              "mean   2018.505455  21754.545455\n",
              "std       1.962064   3815.380540\n",
              "min    2015.000000  10000.000000\n",
              "25%    2017.000000  19000.000000\n",
              "50%    2019.000000  22000.000000\n",
              "75%    2020.000000  24000.000000\n",
              "max    2022.000000  30000.000000"
            ],
            "text/html": [
              "\n",
              "  <div id=\"df-c0df7935-1563-4f7d-b9cb-1d1bb3446921\" class=\"colab-df-container\">\n",
              "    <div>\n",
              "<style scoped>\n",
              "    .dataframe tbody tr th:only-of-type {\n",
              "        vertical-align: middle;\n",
              "    }\n",
              "\n",
              "    .dataframe tbody tr th {\n",
              "        vertical-align: top;\n",
              "    }\n",
              "\n",
              "    .dataframe thead th {\n",
              "        text-align: right;\n",
              "    }\n",
              "</style>\n",
              "<table border=\"1\" class=\"dataframe\">\n",
              "  <thead>\n",
              "    <tr style=\"text-align: right;\">\n",
              "      <th></th>\n",
              "      <th>tahun</th>\n",
              "      <th>km_motor</th>\n",
              "    </tr>\n",
              "  </thead>\n",
              "  <tbody>\n",
              "    <tr>\n",
              "      <th>count</th>\n",
              "      <td>550.000000</td>\n",
              "      <td>550.000000</td>\n",
              "    </tr>\n",
              "    <tr>\n",
              "      <th>mean</th>\n",
              "      <td>2018.505455</td>\n",
              "      <td>21754.545455</td>\n",
              "    </tr>\n",
              "    <tr>\n",
              "      <th>std</th>\n",
              "      <td>1.962064</td>\n",
              "      <td>3815.380540</td>\n",
              "    </tr>\n",
              "    <tr>\n",
              "      <th>min</th>\n",
              "      <td>2015.000000</td>\n",
              "      <td>10000.000000</td>\n",
              "    </tr>\n",
              "    <tr>\n",
              "      <th>25%</th>\n",
              "      <td>2017.000000</td>\n",
              "      <td>19000.000000</td>\n",
              "    </tr>\n",
              "    <tr>\n",
              "      <th>50%</th>\n",
              "      <td>2019.000000</td>\n",
              "      <td>22000.000000</td>\n",
              "    </tr>\n",
              "    <tr>\n",
              "      <th>75%</th>\n",
              "      <td>2020.000000</td>\n",
              "      <td>24000.000000</td>\n",
              "    </tr>\n",
              "    <tr>\n",
              "      <th>max</th>\n",
              "      <td>2022.000000</td>\n",
              "      <td>30000.000000</td>\n",
              "    </tr>\n",
              "  </tbody>\n",
              "</table>\n",
              "</div>\n",
              "    <div class=\"colab-df-buttons\">\n",
              "\n",
              "  <div class=\"colab-df-container\">\n",
              "    <button class=\"colab-df-convert\" onclick=\"convertToInteractive('df-c0df7935-1563-4f7d-b9cb-1d1bb3446921')\"\n",
              "            title=\"Convert this dataframe to an interactive table.\"\n",
              "            style=\"display:none;\">\n",
              "\n",
              "  <svg xmlns=\"http://www.w3.org/2000/svg\" height=\"24px\" viewBox=\"0 -960 960 960\">\n",
              "    <path d=\"M120-120v-720h720v720H120Zm60-500h600v-160H180v160Zm220 220h160v-160H400v160Zm0 220h160v-160H400v160ZM180-400h160v-160H180v160Zm440 0h160v-160H620v160ZM180-180h160v-160H180v160Zm440 0h160v-160H620v160Z\"/>\n",
              "  </svg>\n",
              "    </button>\n",
              "\n",
              "  <style>\n",
              "    .colab-df-container {\n",
              "      display:flex;\n",
              "      gap: 12px;\n",
              "    }\n",
              "\n",
              "    .colab-df-convert {\n",
              "      background-color: #E8F0FE;\n",
              "      border: none;\n",
              "      border-radius: 50%;\n",
              "      cursor: pointer;\n",
              "      display: none;\n",
              "      fill: #1967D2;\n",
              "      height: 32px;\n",
              "      padding: 0 0 0 0;\n",
              "      width: 32px;\n",
              "    }\n",
              "\n",
              "    .colab-df-convert:hover {\n",
              "      background-color: #E2EBFA;\n",
              "      box-shadow: 0px 1px 2px rgba(60, 64, 67, 0.3), 0px 1px 3px 1px rgba(60, 64, 67, 0.15);\n",
              "      fill: #174EA6;\n",
              "    }\n",
              "\n",
              "    .colab-df-buttons div {\n",
              "      margin-bottom: 4px;\n",
              "    }\n",
              "\n",
              "    [theme=dark] .colab-df-convert {\n",
              "      background-color: #3B4455;\n",
              "      fill: #D2E3FC;\n",
              "    }\n",
              "\n",
              "    [theme=dark] .colab-df-convert:hover {\n",
              "      background-color: #434B5C;\n",
              "      box-shadow: 0px 1px 3px 1px rgba(0, 0, 0, 0.15);\n",
              "      filter: drop-shadow(0px 1px 2px rgba(0, 0, 0, 0.3));\n",
              "      fill: #FFFFFF;\n",
              "    }\n",
              "  </style>\n",
              "\n",
              "    <script>\n",
              "      const buttonEl =\n",
              "        document.querySelector('#df-c0df7935-1563-4f7d-b9cb-1d1bb3446921 button.colab-df-convert');\n",
              "      buttonEl.style.display =\n",
              "        google.colab.kernel.accessAllowed ? 'block' : 'none';\n",
              "\n",
              "      async function convertToInteractive(key) {\n",
              "        const element = document.querySelector('#df-c0df7935-1563-4f7d-b9cb-1d1bb3446921');\n",
              "        const dataTable =\n",
              "          await google.colab.kernel.invokeFunction('convertToInteractive',\n",
              "                                                    [key], {});\n",
              "        if (!dataTable) return;\n",
              "\n",
              "        const docLinkHtml = 'Like what you see? Visit the ' +\n",
              "          '<a target=\"_blank\" href=https://colab.research.google.com/notebooks/data_table.ipynb>data table notebook</a>'\n",
              "          + ' to learn more about interactive tables.';\n",
              "        element.innerHTML = '';\n",
              "        dataTable['output_type'] = 'display_data';\n",
              "        await google.colab.output.renderOutput(dataTable, element);\n",
              "        const docLink = document.createElement('div');\n",
              "        docLink.innerHTML = docLinkHtml;\n",
              "        element.appendChild(docLink);\n",
              "      }\n",
              "    </script>\n",
              "  </div>\n",
              "\n",
              "\n",
              "<div id=\"df-f3ff6988-96d8-4c23-ad92-9a0b89e501cc\">\n",
              "  <button class=\"colab-df-quickchart\" onclick=\"quickchart('df-f3ff6988-96d8-4c23-ad92-9a0b89e501cc')\"\n",
              "            title=\"Suggest charts\"\n",
              "            style=\"display:none;\">\n",
              "\n",
              "<svg xmlns=\"http://www.w3.org/2000/svg\" height=\"24px\"viewBox=\"0 0 24 24\"\n",
              "     width=\"24px\">\n",
              "    <g>\n",
              "        <path d=\"M19 3H5c-1.1 0-2 .9-2 2v14c0 1.1.9 2 2 2h14c1.1 0 2-.9 2-2V5c0-1.1-.9-2-2-2zM9 17H7v-7h2v7zm4 0h-2V7h2v10zm4 0h-2v-4h2v4z\"/>\n",
              "    </g>\n",
              "</svg>\n",
              "  </button>\n",
              "\n",
              "<style>\n",
              "  .colab-df-quickchart {\n",
              "      --bg-color: #E8F0FE;\n",
              "      --fill-color: #1967D2;\n",
              "      --hover-bg-color: #E2EBFA;\n",
              "      --hover-fill-color: #174EA6;\n",
              "      --disabled-fill-color: #AAA;\n",
              "      --disabled-bg-color: #DDD;\n",
              "  }\n",
              "\n",
              "  [theme=dark] .colab-df-quickchart {\n",
              "      --bg-color: #3B4455;\n",
              "      --fill-color: #D2E3FC;\n",
              "      --hover-bg-color: #434B5C;\n",
              "      --hover-fill-color: #FFFFFF;\n",
              "      --disabled-bg-color: #3B4455;\n",
              "      --disabled-fill-color: #666;\n",
              "  }\n",
              "\n",
              "  .colab-df-quickchart {\n",
              "    background-color: var(--bg-color);\n",
              "    border: none;\n",
              "    border-radius: 50%;\n",
              "    cursor: pointer;\n",
              "    display: none;\n",
              "    fill: var(--fill-color);\n",
              "    height: 32px;\n",
              "    padding: 0;\n",
              "    width: 32px;\n",
              "  }\n",
              "\n",
              "  .colab-df-quickchart:hover {\n",
              "    background-color: var(--hover-bg-color);\n",
              "    box-shadow: 0 1px 2px rgba(60, 64, 67, 0.3), 0 1px 3px 1px rgba(60, 64, 67, 0.15);\n",
              "    fill: var(--button-hover-fill-color);\n",
              "  }\n",
              "\n",
              "  .colab-df-quickchart-complete:disabled,\n",
              "  .colab-df-quickchart-complete:disabled:hover {\n",
              "    background-color: var(--disabled-bg-color);\n",
              "    fill: var(--disabled-fill-color);\n",
              "    box-shadow: none;\n",
              "  }\n",
              "\n",
              "  .colab-df-spinner {\n",
              "    border: 2px solid var(--fill-color);\n",
              "    border-color: transparent;\n",
              "    border-bottom-color: var(--fill-color);\n",
              "    animation:\n",
              "      spin 1s steps(1) infinite;\n",
              "  }\n",
              "\n",
              "  @keyframes spin {\n",
              "    0% {\n",
              "      border-color: transparent;\n",
              "      border-bottom-color: var(--fill-color);\n",
              "      border-left-color: var(--fill-color);\n",
              "    }\n",
              "    20% {\n",
              "      border-color: transparent;\n",
              "      border-left-color: var(--fill-color);\n",
              "      border-top-color: var(--fill-color);\n",
              "    }\n",
              "    30% {\n",
              "      border-color: transparent;\n",
              "      border-left-color: var(--fill-color);\n",
              "      border-top-color: var(--fill-color);\n",
              "      border-right-color: var(--fill-color);\n",
              "    }\n",
              "    40% {\n",
              "      border-color: transparent;\n",
              "      border-right-color: var(--fill-color);\n",
              "      border-top-color: var(--fill-color);\n",
              "    }\n",
              "    60% {\n",
              "      border-color: transparent;\n",
              "      border-right-color: var(--fill-color);\n",
              "    }\n",
              "    80% {\n",
              "      border-color: transparent;\n",
              "      border-right-color: var(--fill-color);\n",
              "      border-bottom-color: var(--fill-color);\n",
              "    }\n",
              "    90% {\n",
              "      border-color: transparent;\n",
              "      border-bottom-color: var(--fill-color);\n",
              "    }\n",
              "  }\n",
              "</style>\n",
              "\n",
              "  <script>\n",
              "    async function quickchart(key) {\n",
              "      const quickchartButtonEl =\n",
              "        document.querySelector('#' + key + ' button');\n",
              "      quickchartButtonEl.disabled = true;  // To prevent multiple clicks.\n",
              "      quickchartButtonEl.classList.add('colab-df-spinner');\n",
              "      try {\n",
              "        const charts = await google.colab.kernel.invokeFunction(\n",
              "            'suggestCharts', [key], {});\n",
              "      } catch (error) {\n",
              "        console.error('Error during call to suggestCharts:', error);\n",
              "      }\n",
              "      quickchartButtonEl.classList.remove('colab-df-spinner');\n",
              "      quickchartButtonEl.classList.add('colab-df-quickchart-complete');\n",
              "    }\n",
              "    (() => {\n",
              "      let quickchartButtonEl =\n",
              "        document.querySelector('#df-f3ff6988-96d8-4c23-ad92-9a0b89e501cc button');\n",
              "      quickchartButtonEl.style.display =\n",
              "        google.colab.kernel.accessAllowed ? 'block' : 'none';\n",
              "    })();\n",
              "  </script>\n",
              "</div>\n",
              "    </div>\n",
              "  </div>\n"
            ]
          },
          "metadata": {},
          "execution_count": 7
        }
      ],
      "source": [
        "df.describe()"
      ]
    },
    {
      "cell_type": "code",
      "execution_count": null,
      "metadata": {
        "colab": {
          "base_uri": "https://localhost:8080/"
        },
        "id": "1fo_b5bKJGuS",
        "outputId": "936ed096-ef4f-43d5-df87-7ebd5751c0b9"
      },
      "outputs": [
        {
          "output_type": "execute_result",
          "data": {
            "text/plain": [
              "gejala1               0\n",
              "gejala2               0\n",
              "gejala3               0\n",
              "jenis_motor           0\n",
              "merk_motor            0\n",
              "tahun                 0\n",
              "km_motor              0\n",
              "pernah_servis         0\n",
              "permasalahan_motor    0\n",
              "solusi                0\n",
              "dtype: int64"
            ]
          },
          "metadata": {},
          "execution_count": 8
        }
      ],
      "source": [
        "df.isnull().sum()"
      ]
    },
    {
      "cell_type": "code",
      "execution_count": null,
      "metadata": {
        "colab": {
          "base_uri": "https://localhost:8080/"
        },
        "id": "_zlfUu55Jax4",
        "outputId": "2a09ef14-26a3-431d-8a0c-8f2dbbcdca26"
      },
      "outputs": [
        {
          "output_type": "execute_result",
          "data": {
            "text/plain": [
              "oli berlebihan                 68\n",
              "kopling terlalu keras          58\n",
              "kopling terlalu lembek         52\n",
              "suara mendesis dari knalpot    45\n",
              "suara aneh                     40\n",
              "getaran berlebihan             38\n",
              "rem berderit                   38\n",
              "suara mendesis                 37\n",
              "kebocoran oli                  36\n",
              "bau aneh dari knalpot          26\n",
              "konsumsi bahan bakar tinggi    14\n",
              "hilangnya tenaga               14\n",
              "kopling selip                  14\n",
              "kesulitan berpindah gigi       14\n",
              "suara aneh dari knalpot        14\n",
              "suara mendesis dari mesin      14\n",
              "oli berkurang drastis          10\n",
              "bau gas berlebihan              8\n",
              "rem tidak pakem                 6\n",
              "suara aneh dari mesin           3\n",
              "kondisi mesin baik              1\n",
              "Name: gejala1, dtype: int64"
            ]
          },
          "metadata": {},
          "execution_count": 9
        }
      ],
      "source": [
        "df['gejala1'].value_counts()"
      ]
    },
    {
      "cell_type": "code",
      "execution_count": null,
      "metadata": {
        "colab": {
          "base_uri": "https://localhost:8080/"
        },
        "id": "Ads9ymZ3JjaV",
        "outputId": "39810174-43cb-43f9-90f1-7c801a3ec1e7"
      },
      "outputs": [
        {
          "output_type": "execute_result",
          "data": {
            "text/plain": [
              "suara mendesis               73\n",
              "kesulitan berpindah gigi     60\n",
              "idling tidak teratur         55\n",
              "asap berlebihan              53\n",
              "rem tidak pakem              42\n",
              "suara gesekan                39\n",
              "suara aneh                   32\n",
              "getaran pada setir           31\n",
              "bau gas berlebihan           25\n",
              "suara mendesis dari mesin    25\n",
              "getaran berlebihan           18\n",
              "kopling terlalu keras        16\n",
              "getaran mesin                14\n",
              "mesin terlalu panas          14\n",
              "bau aneh dari knalpot        11\n",
              "rem keras                    10\n",
              "suara aneh dari mesin        10\n",
              "akselerasi mendadak          10\n",
              "rem responsif                 4\n",
              "rem berderit                  4\n",
              "suara normal                  1\n",
              "mesin mati mendadak           1\n",
              "sulit distarter               1\n",
              "kopling terlalu lembek        1\n",
              "Name: gejala2, dtype: int64"
            ]
          },
          "metadata": {},
          "execution_count": 10
        }
      ],
      "source": [
        "df['gejala2'].value_counts()"
      ]
    },
    {
      "cell_type": "code",
      "execution_count": null,
      "metadata": {
        "colab": {
          "base_uri": "https://localhost:8080/"
        },
        "id": "06C_9kvUJvJ7",
        "outputId": "5b1687d6-1668-459a-b3d4-7014de2456a3"
      },
      "outputs": [
        {
          "output_type": "execute_result",
          "data": {
            "text/plain": [
              "sulit distarter                156\n",
              "tidak bisa berakselerasi       118\n",
              "mesin mati mendadak             89\n",
              "tidak ada                       76\n",
              "mesin terlalu panas             54\n",
              "kesulitan berpindah gigi        16\n",
              "konsumsi bahan bakar tinggi     14\n",
              "suara berisik dari mesin        14\n",
              "bau aneh dari knalpot            6\n",
              "bau gas berlebihan               6\n",
              "kesulitan memulai                1\n",
              "Name: gejala3, dtype: int64"
            ]
          },
          "metadata": {},
          "execution_count": 11
        }
      ],
      "source": [
        "df['gejala3'].value_counts()"
      ]
    },
    {
      "cell_type": "code",
      "execution_count": null,
      "metadata": {
        "colab": {
          "base_uri": "https://localhost:8080/"
        },
        "id": "wcRavnpDJyLT",
        "outputId": "cba6b782-1c6b-4f3b-df8c-bac09e611b07"
      },
      "outputs": [
        {
          "output_type": "execute_result",
          "data": {
            "text/plain": [
              "matic    276\n",
              "gigi     274\n",
              "Name: jenis_motor, dtype: int64"
            ]
          },
          "metadata": {},
          "execution_count": 12
        }
      ],
      "source": [
        "df['jenis_motor'].value_counts()"
      ]
    },
    {
      "cell_type": "code",
      "execution_count": null,
      "metadata": {
        "colab": {
          "base_uri": "https://localhost:8080/"
        },
        "id": "Q-tQ4BhMJ6xr",
        "outputId": "bd8794ac-43d1-457e-8749-c5b18ee08b40"
      },
      "outputs": [
        {
          "output_type": "execute_result",
          "data": {
            "text/plain": [
              "yamaha    197\n",
              "honda     179\n",
              "suzuki    174\n",
              "Name: merk_motor, dtype: int64"
            ]
          },
          "metadata": {},
          "execution_count": 13
        }
      ],
      "source": [
        "df['merk_motor'].value_counts()"
      ]
    },
    {
      "cell_type": "code",
      "execution_count": null,
      "metadata": {
        "colab": {
          "base_uri": "https://localhost:8080/"
        },
        "id": "5n2v7pHYJ9-X",
        "outputId": "818c2f96-18f5-49b9-9d49-75463dfc2193"
      },
      "outputs": [
        {
          "output_type": "execute_result",
          "data": {
            "text/plain": [
              "ya       302\n",
              "tidak    248\n",
              "Name: pernah_servis, dtype: int64"
            ]
          },
          "metadata": {},
          "execution_count": 14
        }
      ],
      "source": [
        "df['pernah_servis'].value_counts()"
      ]
    },
    {
      "cell_type": "code",
      "source": [
        "X_numerical = df[['tahun', 'km_motor']]\n",
        "X_categorical = df[['gejala1', 'gejala2', 'gejala3', 'pernah_servis', 'merk_motor', 'jenis_motor']]\n",
        "y = df['permasalahan_motor']"
      ],
      "metadata": {
        "id": "gnDOwxLADBnh"
      },
      "execution_count": null,
      "outputs": []
    },
    {
      "cell_type": "code",
      "source": [
        "label_encoder_y = LabelEncoder()\n",
        "y_encoded = label_encoder_y.fit_transform(y)"
      ],
      "metadata": {
        "id": "jU1me_NwDJIt"
      },
      "execution_count": null,
      "outputs": []
    },
    {
      "cell_type": "code",
      "source": [
        "label_encoder_tahun = LabelEncoder()\n",
        "label_encoder_km_motor = LabelEncoder()\n",
        "label_encoder_gejala1 = LabelEncoder()\n",
        "label_encoder_gejala2 = LabelEncoder()\n",
        "label_encoder_gejala3 = LabelEncoder()\n",
        "label_encoder_pernah_servis = LabelEncoder()\n",
        "label_encoder_merk_motor = LabelEncoder()\n",
        "label_encoder_jenis_motor = LabelEncoder()\n",
        "\n",
        "label_encoder_tahun.fit(df['tahun'])\n",
        "label_encoder_km_motor.fit(df['km_motor'])\n",
        "label_encoder_gejala1.fit(df['gejala1'])\n",
        "label_encoder_gejala2.fit(df['gejala2'])\n",
        "label_encoder_gejala3.fit(df['gejala3'])\n",
        "label_encoder_pernah_servis.fit(df['pernah_servis'])\n",
        "label_encoder_merk_motor.fit(df['merk_motor'])\n",
        "label_encoder_jenis_motor.fit(df['jenis_motor'])"
      ],
      "metadata": {
        "colab": {
          "base_uri": "https://localhost:8080/",
          "height": 74
        },
        "id": "UQCLoTgsDMUd",
        "outputId": "225e81b3-e6b3-4a8f-8760-27694d99a945"
      },
      "execution_count": null,
      "outputs": [
        {
          "output_type": "execute_result",
          "data": {
            "text/plain": [
              "LabelEncoder()"
            ],
            "text/html": [
              "<style>#sk-container-id-1 {color: black;background-color: white;}#sk-container-id-1 pre{padding: 0;}#sk-container-id-1 div.sk-toggleable {background-color: white;}#sk-container-id-1 label.sk-toggleable__label {cursor: pointer;display: block;width: 100%;margin-bottom: 0;padding: 0.3em;box-sizing: border-box;text-align: center;}#sk-container-id-1 label.sk-toggleable__label-arrow:before {content: \"▸\";float: left;margin-right: 0.25em;color: #696969;}#sk-container-id-1 label.sk-toggleable__label-arrow:hover:before {color: black;}#sk-container-id-1 div.sk-estimator:hover label.sk-toggleable__label-arrow:before {color: black;}#sk-container-id-1 div.sk-toggleable__content {max-height: 0;max-width: 0;overflow: hidden;text-align: left;background-color: #f0f8ff;}#sk-container-id-1 div.sk-toggleable__content pre {margin: 0.2em;color: black;border-radius: 0.25em;background-color: #f0f8ff;}#sk-container-id-1 input.sk-toggleable__control:checked~div.sk-toggleable__content {max-height: 200px;max-width: 100%;overflow: auto;}#sk-container-id-1 input.sk-toggleable__control:checked~label.sk-toggleable__label-arrow:before {content: \"▾\";}#sk-container-id-1 div.sk-estimator input.sk-toggleable__control:checked~label.sk-toggleable__label {background-color: #d4ebff;}#sk-container-id-1 div.sk-label input.sk-toggleable__control:checked~label.sk-toggleable__label {background-color: #d4ebff;}#sk-container-id-1 input.sk-hidden--visually {border: 0;clip: rect(1px 1px 1px 1px);clip: rect(1px, 1px, 1px, 1px);height: 1px;margin: -1px;overflow: hidden;padding: 0;position: absolute;width: 1px;}#sk-container-id-1 div.sk-estimator {font-family: monospace;background-color: #f0f8ff;border: 1px dotted black;border-radius: 0.25em;box-sizing: border-box;margin-bottom: 0.5em;}#sk-container-id-1 div.sk-estimator:hover {background-color: #d4ebff;}#sk-container-id-1 div.sk-parallel-item::after {content: \"\";width: 100%;border-bottom: 1px solid gray;flex-grow: 1;}#sk-container-id-1 div.sk-label:hover label.sk-toggleable__label {background-color: #d4ebff;}#sk-container-id-1 div.sk-serial::before {content: \"\";position: absolute;border-left: 1px solid gray;box-sizing: border-box;top: 0;bottom: 0;left: 50%;z-index: 0;}#sk-container-id-1 div.sk-serial {display: flex;flex-direction: column;align-items: center;background-color: white;padding-right: 0.2em;padding-left: 0.2em;position: relative;}#sk-container-id-1 div.sk-item {position: relative;z-index: 1;}#sk-container-id-1 div.sk-parallel {display: flex;align-items: stretch;justify-content: center;background-color: white;position: relative;}#sk-container-id-1 div.sk-item::before, #sk-container-id-1 div.sk-parallel-item::before {content: \"\";position: absolute;border-left: 1px solid gray;box-sizing: border-box;top: 0;bottom: 0;left: 50%;z-index: -1;}#sk-container-id-1 div.sk-parallel-item {display: flex;flex-direction: column;z-index: 1;position: relative;background-color: white;}#sk-container-id-1 div.sk-parallel-item:first-child::after {align-self: flex-end;width: 50%;}#sk-container-id-1 div.sk-parallel-item:last-child::after {align-self: flex-start;width: 50%;}#sk-container-id-1 div.sk-parallel-item:only-child::after {width: 0;}#sk-container-id-1 div.sk-dashed-wrapped {border: 1px dashed gray;margin: 0 0.4em 0.5em 0.4em;box-sizing: border-box;padding-bottom: 0.4em;background-color: white;}#sk-container-id-1 div.sk-label label {font-family: monospace;font-weight: bold;display: inline-block;line-height: 1.2em;}#sk-container-id-1 div.sk-label-container {text-align: center;}#sk-container-id-1 div.sk-container {/* jupyter's `normalize.less` sets `[hidden] { display: none; }` but bootstrap.min.css set `[hidden] { display: none !important; }` so we also need the `!important` here to be able to override the default hidden behavior on the sphinx rendered scikit-learn.org. See: https://github.com/scikit-learn/scikit-learn/issues/21755 */display: inline-block !important;position: relative;}#sk-container-id-1 div.sk-text-repr-fallback {display: none;}</style><div id=\"sk-container-id-1\" class=\"sk-top-container\"><div class=\"sk-text-repr-fallback\"><pre>LabelEncoder()</pre><b>In a Jupyter environment, please rerun this cell to show the HTML representation or trust the notebook. <br />On GitHub, the HTML representation is unable to render, please try loading this page with nbviewer.org.</b></div><div class=\"sk-container\" hidden><div class=\"sk-item\"><div class=\"sk-estimator sk-toggleable\"><input class=\"sk-toggleable__control sk-hidden--visually\" id=\"sk-estimator-id-1\" type=\"checkbox\" checked><label for=\"sk-estimator-id-1\" class=\"sk-toggleable__label sk-toggleable__label-arrow\">LabelEncoder</label><div class=\"sk-toggleable__content\"><pre>LabelEncoder()</pre></div></div></div></div></div>"
            ]
          },
          "metadata": {},
          "execution_count": 21
        }
      ]
    },
    {
      "cell_type": "code",
      "source": [
        "joblib.dump(label_encoder_tahun, 'label_encoder_tahun.joblib')\n",
        "joblib.dump(label_encoder_km_motor, 'label_encoder_km_motor.joblib')\n",
        "joblib.dump(label_encoder_gejala1, 'label_encoder_gejala1.joblib')\n",
        "joblib.dump(label_encoder_gejala2, 'label_encoder_gejala2.joblib')\n",
        "joblib.dump(label_encoder_gejala3, 'label_encoder_gejala3.joblib')\n",
        "joblib.dump(label_encoder_pernah_servis, 'label_encoder_pernah_servis.joblib')\n",
        "joblib.dump(label_encoder_merk_motor, 'label_encoder_merk_motor.joblib')\n",
        "joblib.dump(label_encoder_jenis_motor, 'label_encoder_jenis_motor.joblib')"
      ],
      "metadata": {
        "colab": {
          "base_uri": "https://localhost:8080/"
        },
        "id": "YzVwBjAVDROo",
        "outputId": "b348f9a2-f42e-40e9-db25-bad501f03368"
      },
      "execution_count": null,
      "outputs": [
        {
          "output_type": "execute_result",
          "data": {
            "text/plain": [
              "['label_encoder_jenis_motor.joblib']"
            ]
          },
          "metadata": {},
          "execution_count": 22
        }
      ]
    },
    {
      "cell_type": "code",
      "source": [
        "X_categorical.loc[:, 'gejala1'] = label_encoder_gejala1.transform(X_categorical['gejala1'])\n",
        "X_categorical.loc[:, 'gejala2'] = label_encoder_gejala2.transform(X_categorical['gejala2'])\n",
        "X_categorical.loc[:, 'gejala3'] = label_encoder_gejala3.transform(X_categorical['gejala3'])\n",
        "X_categorical.loc[:, 'pernah_servis'] = label_encoder_pernah_servis.transform(X_categorical['pernah_servis'])\n",
        "X_categorical.loc[:, 'merk_motor'] = label_encoder_merk_motor.transform(X_categorical['merk_motor'])\n",
        "X_categorical.loc[:, 'jenis_motor'] = label_encoder_jenis_motor.transform(X_categorical['jenis_motor'])"
      ],
      "metadata": {
        "colab": {
          "base_uri": "https://localhost:8080/"
        },
        "id": "Sm87TrVhDXLu",
        "outputId": "e4a76b50-6696-413f-c3c8-da4e3fa22757"
      },
      "execution_count": null,
      "outputs": [
        {
          "output_type": "stream",
          "name": "stderr",
          "text": [
            "<ipython-input-23-646e801cb6dd>:1: SettingWithCopyWarning: \n",
            "A value is trying to be set on a copy of a slice from a DataFrame.\n",
            "Try using .loc[row_indexer,col_indexer] = value instead\n",
            "\n",
            "See the caveats in the documentation: https://pandas.pydata.org/pandas-docs/stable/user_guide/indexing.html#returning-a-view-versus-a-copy\n",
            "  X_categorical.loc[:, 'gejala1'] = label_encoder_gejala1.transform(X_categorical['gejala1'])\n",
            "<ipython-input-23-646e801cb6dd>:1: DeprecationWarning: In a future version, `df.iloc[:, i] = newvals` will attempt to set the values inplace instead of always setting a new array. To retain the old behavior, use either `df[df.columns[i]] = newvals` or, if columns are non-unique, `df.isetitem(i, newvals)`\n",
            "  X_categorical.loc[:, 'gejala1'] = label_encoder_gejala1.transform(X_categorical['gejala1'])\n",
            "<ipython-input-23-646e801cb6dd>:2: SettingWithCopyWarning: \n",
            "A value is trying to be set on a copy of a slice from a DataFrame.\n",
            "Try using .loc[row_indexer,col_indexer] = value instead\n",
            "\n",
            "See the caveats in the documentation: https://pandas.pydata.org/pandas-docs/stable/user_guide/indexing.html#returning-a-view-versus-a-copy\n",
            "  X_categorical.loc[:, 'gejala2'] = label_encoder_gejala2.transform(X_categorical['gejala2'])\n",
            "<ipython-input-23-646e801cb6dd>:2: DeprecationWarning: In a future version, `df.iloc[:, i] = newvals` will attempt to set the values inplace instead of always setting a new array. To retain the old behavior, use either `df[df.columns[i]] = newvals` or, if columns are non-unique, `df.isetitem(i, newvals)`\n",
            "  X_categorical.loc[:, 'gejala2'] = label_encoder_gejala2.transform(X_categorical['gejala2'])\n",
            "<ipython-input-23-646e801cb6dd>:3: SettingWithCopyWarning: \n",
            "A value is trying to be set on a copy of a slice from a DataFrame.\n",
            "Try using .loc[row_indexer,col_indexer] = value instead\n",
            "\n",
            "See the caveats in the documentation: https://pandas.pydata.org/pandas-docs/stable/user_guide/indexing.html#returning-a-view-versus-a-copy\n",
            "  X_categorical.loc[:, 'gejala3'] = label_encoder_gejala3.transform(X_categorical['gejala3'])\n",
            "<ipython-input-23-646e801cb6dd>:3: DeprecationWarning: In a future version, `df.iloc[:, i] = newvals` will attempt to set the values inplace instead of always setting a new array. To retain the old behavior, use either `df[df.columns[i]] = newvals` or, if columns are non-unique, `df.isetitem(i, newvals)`\n",
            "  X_categorical.loc[:, 'gejala3'] = label_encoder_gejala3.transform(X_categorical['gejala3'])\n",
            "<ipython-input-23-646e801cb6dd>:4: SettingWithCopyWarning: \n",
            "A value is trying to be set on a copy of a slice from a DataFrame.\n",
            "Try using .loc[row_indexer,col_indexer] = value instead\n",
            "\n",
            "See the caveats in the documentation: https://pandas.pydata.org/pandas-docs/stable/user_guide/indexing.html#returning-a-view-versus-a-copy\n",
            "  X_categorical.loc[:, 'pernah_servis'] = label_encoder_pernah_servis.transform(X_categorical['pernah_servis'])\n",
            "<ipython-input-23-646e801cb6dd>:4: DeprecationWarning: In a future version, `df.iloc[:, i] = newvals` will attempt to set the values inplace instead of always setting a new array. To retain the old behavior, use either `df[df.columns[i]] = newvals` or, if columns are non-unique, `df.isetitem(i, newvals)`\n",
            "  X_categorical.loc[:, 'pernah_servis'] = label_encoder_pernah_servis.transform(X_categorical['pernah_servis'])\n",
            "<ipython-input-23-646e801cb6dd>:5: SettingWithCopyWarning: \n",
            "A value is trying to be set on a copy of a slice from a DataFrame.\n",
            "Try using .loc[row_indexer,col_indexer] = value instead\n",
            "\n",
            "See the caveats in the documentation: https://pandas.pydata.org/pandas-docs/stable/user_guide/indexing.html#returning-a-view-versus-a-copy\n",
            "  X_categorical.loc[:, 'merk_motor'] = label_encoder_merk_motor.transform(X_categorical['merk_motor'])\n",
            "<ipython-input-23-646e801cb6dd>:5: DeprecationWarning: In a future version, `df.iloc[:, i] = newvals` will attempt to set the values inplace instead of always setting a new array. To retain the old behavior, use either `df[df.columns[i]] = newvals` or, if columns are non-unique, `df.isetitem(i, newvals)`\n",
            "  X_categorical.loc[:, 'merk_motor'] = label_encoder_merk_motor.transform(X_categorical['merk_motor'])\n",
            "<ipython-input-23-646e801cb6dd>:6: SettingWithCopyWarning: \n",
            "A value is trying to be set on a copy of a slice from a DataFrame.\n",
            "Try using .loc[row_indexer,col_indexer] = value instead\n",
            "\n",
            "See the caveats in the documentation: https://pandas.pydata.org/pandas-docs/stable/user_guide/indexing.html#returning-a-view-versus-a-copy\n",
            "  X_categorical.loc[:, 'jenis_motor'] = label_encoder_jenis_motor.transform(X_categorical['jenis_motor'])\n",
            "<ipython-input-23-646e801cb6dd>:6: DeprecationWarning: In a future version, `df.iloc[:, i] = newvals` will attempt to set the values inplace instead of always setting a new array. To retain the old behavior, use either `df[df.columns[i]] = newvals` or, if columns are non-unique, `df.isetitem(i, newvals)`\n",
            "  X_categorical.loc[:, 'jenis_motor'] = label_encoder_jenis_motor.transform(X_categorical['jenis_motor'])\n"
          ]
        }
      ]
    },
    {
      "cell_type": "code",
      "source": [
        "encoder = OneHotEncoder(drop='first', sparse=False)\n",
        "X_categorical_encoded = encoder.fit_transform(X_categorical)"
      ],
      "metadata": {
        "colab": {
          "base_uri": "https://localhost:8080/"
        },
        "id": "UHEo4t7JDhqD",
        "outputId": "9a89ce33-e706-4a23-e309-f2f690a681a7"
      },
      "execution_count": null,
      "outputs": [
        {
          "output_type": "stream",
          "name": "stderr",
          "text": [
            "/usr/local/lib/python3.10/dist-packages/sklearn/preprocessing/_encoders.py:868: FutureWarning: `sparse` was renamed to `sparse_output` in version 1.2 and will be removed in 1.4. `sparse_output` is ignored unless you leave `sparse` to its default value.\n",
            "  warnings.warn(\n"
          ]
        }
      ]
    },
    {
      "cell_type": "code",
      "source": [
        "scaler = StandardScaler()\n",
        "X_numerical_scaled = scaler.fit_transform(X_numerical)"
      ],
      "metadata": {
        "id": "8iy8UBbIDk6L"
      },
      "execution_count": null,
      "outputs": []
    },
    {
      "cell_type": "code",
      "source": [
        "joblib.dump(scaler, 'scaler.joblib')"
      ],
      "metadata": {
        "colab": {
          "base_uri": "https://localhost:8080/"
        },
        "id": "uyzeFV1lDnHn",
        "outputId": "9ea3153a-32a8-4de3-9a9c-068b2b2ab5e5"
      },
      "execution_count": null,
      "outputs": [
        {
          "output_type": "execute_result",
          "data": {
            "text/plain": [
              "['scaler.joblib']"
            ]
          },
          "metadata": {},
          "execution_count": 26
        }
      ]
    },
    {
      "cell_type": "code",
      "source": [
        "X_combined = np.concatenate([X_numerical_scaled, X_categorical_encoded], axis=1)"
      ],
      "metadata": {
        "id": "ZpIZSrpiDpN0"
      },
      "execution_count": null,
      "outputs": []
    },
    {
      "cell_type": "code",
      "source": [
        "X_train, X_test, y_train, y_test = train_test_split(X_combined, y_encoded, test_size=0.25, random_state=42)\n",
        "y_train = y_train.astype(int)\n",
        "y_test = y_test.astype(int)"
      ],
      "metadata": {
        "id": "c7ssjPQXDsHT"
      },
      "execution_count": null,
      "outputs": []
    },
    {
      "cell_type": "code",
      "source": [
        "def build_model():\n",
        "    num_actual_classes_expected = len(np.unique(y_encoded))\n",
        "    input_dim = X_train.shape[1]\n",
        "\n",
        "    model = Sequential()\n",
        "    model.add(Dense(450, activation='relu', input_dim=input_dim))\n",
        "    model.add(Dropout(0.5))\n",
        "    model.add(Dense(20, activation='relu'))\n",
        "    model.add(Dropout(0.3))\n",
        "    model.add(Dense(num_actual_classes_expected, activation='softmax'))\n",
        "\n",
        "    optimizer = Adam(learning_rate=0.001)\n",
        "    model.compile(optimizer=optimizer, loss='sparse_categorical_crossentropy', metrics=['accuracy'])\n",
        "\n",
        "    return model"
      ],
      "metadata": {
        "id": "7K4551obDucn"
      },
      "execution_count": null,
      "outputs": []
    },
    {
      "cell_type": "code",
      "source": [
        "early_stopping = EarlyStopping(monitor='val_loss', patience=5, restore_best_weights=True)"
      ],
      "metadata": {
        "id": "OVYC6aMNDwsY"
      },
      "execution_count": null,
      "outputs": []
    },
    {
      "cell_type": "code",
      "source": [
        "model = build_model()\n",
        "history = model.fit(X_train, y_train, epochs=100, batch_size=32, validation_split=0.25, callbacks=[early_stopping])\n"
      ],
      "metadata": {
        "colab": {
          "base_uri": "https://localhost:8080/"
        },
        "id": "ICnIYOJND0jP",
        "outputId": "7c4874f5-5af4-4be5-a45e-0750c863aba8"
      },
      "execution_count": null,
      "outputs": [
        {
          "output_type": "stream",
          "name": "stdout",
          "text": [
            "Epoch 1/100\n",
            "10/10 [==============================] - 1s 29ms/step - loss: 2.1755 - accuracy: 0.2071 - val_loss: 2.0483 - val_accuracy: 0.3107\n",
            "Epoch 2/100\n",
            "10/10 [==============================] - 0s 9ms/step - loss: 1.9301 - accuracy: 0.2848 - val_loss: 1.7874 - val_accuracy: 0.5146\n",
            "Epoch 3/100\n",
            "10/10 [==============================] - 0s 9ms/step - loss: 1.7013 - accuracy: 0.4919 - val_loss: 1.5290 - val_accuracy: 0.7573\n",
            "Epoch 4/100\n",
            "10/10 [==============================] - 0s 9ms/step - loss: 1.4123 - accuracy: 0.5955 - val_loss: 1.2852 - val_accuracy: 0.7767\n",
            "Epoch 5/100\n",
            "10/10 [==============================] - 0s 9ms/step - loss: 1.1909 - accuracy: 0.6634 - val_loss: 1.0837 - val_accuracy: 0.7767\n",
            "Epoch 6/100\n",
            "10/10 [==============================] - 0s 9ms/step - loss: 1.0204 - accuracy: 0.7120 - val_loss: 0.9205 - val_accuracy: 0.8058\n",
            "Epoch 7/100\n",
            "10/10 [==============================] - 0s 8ms/step - loss: 0.8431 - accuracy: 0.7476 - val_loss: 0.8118 - val_accuracy: 0.8252\n",
            "Epoch 8/100\n",
            "10/10 [==============================] - 0s 9ms/step - loss: 0.7349 - accuracy: 0.8026 - val_loss: 0.7397 - val_accuracy: 0.8252\n",
            "Epoch 9/100\n",
            "10/10 [==============================] - 0s 7ms/step - loss: 0.6570 - accuracy: 0.8414 - val_loss: 0.6621 - val_accuracy: 0.8447\n",
            "Epoch 10/100\n",
            "10/10 [==============================] - 0s 8ms/step - loss: 0.6100 - accuracy: 0.8188 - val_loss: 0.5893 - val_accuracy: 0.8738\n",
            "Epoch 11/100\n",
            "10/10 [==============================] - 0s 9ms/step - loss: 0.5532 - accuracy: 0.8544 - val_loss: 0.5340 - val_accuracy: 0.8738\n",
            "Epoch 12/100\n",
            "10/10 [==============================] - 0s 7ms/step - loss: 0.5166 - accuracy: 0.8673 - val_loss: 0.5011 - val_accuracy: 0.8738\n",
            "Epoch 13/100\n",
            "10/10 [==============================] - 0s 8ms/step - loss: 0.4669 - accuracy: 0.9094 - val_loss: 0.4781 - val_accuracy: 0.8738\n",
            "Epoch 14/100\n",
            "10/10 [==============================] - 0s 8ms/step - loss: 0.3985 - accuracy: 0.9126 - val_loss: 0.4443 - val_accuracy: 0.8738\n",
            "Epoch 15/100\n",
            "10/10 [==============================] - 0s 9ms/step - loss: 0.3903 - accuracy: 0.9061 - val_loss: 0.4199 - val_accuracy: 0.8835\n",
            "Epoch 16/100\n",
            "10/10 [==============================] - 0s 7ms/step - loss: 0.3598 - accuracy: 0.9029 - val_loss: 0.3966 - val_accuracy: 0.8738\n",
            "Epoch 17/100\n",
            "10/10 [==============================] - 0s 7ms/step - loss: 0.3295 - accuracy: 0.9223 - val_loss: 0.3822 - val_accuracy: 0.8932\n",
            "Epoch 18/100\n",
            "10/10 [==============================] - 0s 9ms/step - loss: 0.3064 - accuracy: 0.9126 - val_loss: 0.3660 - val_accuracy: 0.8932\n",
            "Epoch 19/100\n",
            "10/10 [==============================] - 0s 7ms/step - loss: 0.3024 - accuracy: 0.9094 - val_loss: 0.3364 - val_accuracy: 0.9126\n",
            "Epoch 20/100\n",
            "10/10 [==============================] - 0s 9ms/step - loss: 0.2905 - accuracy: 0.9256 - val_loss: 0.3147 - val_accuracy: 0.9126\n",
            "Epoch 21/100\n",
            "10/10 [==============================] - 0s 7ms/step - loss: 0.2455 - accuracy: 0.9417 - val_loss: 0.3143 - val_accuracy: 0.9126\n",
            "Epoch 22/100\n",
            "10/10 [==============================] - 0s 7ms/step - loss: 0.2689 - accuracy: 0.9320 - val_loss: 0.3126 - val_accuracy: 0.9223\n",
            "Epoch 23/100\n",
            "10/10 [==============================] - 0s 7ms/step - loss: 0.2366 - accuracy: 0.9482 - val_loss: 0.2931 - val_accuracy: 0.9223\n",
            "Epoch 24/100\n",
            "10/10 [==============================] - 0s 8ms/step - loss: 0.2554 - accuracy: 0.9385 - val_loss: 0.2831 - val_accuracy: 0.9223\n",
            "Epoch 25/100\n",
            "10/10 [==============================] - 0s 8ms/step - loss: 0.2246 - accuracy: 0.9450 - val_loss: 0.2763 - val_accuracy: 0.9320\n",
            "Epoch 26/100\n",
            "10/10 [==============================] - 0s 7ms/step - loss: 0.2384 - accuracy: 0.9515 - val_loss: 0.2712 - val_accuracy: 0.9320\n",
            "Epoch 27/100\n",
            "10/10 [==============================] - 0s 9ms/step - loss: 0.2158 - accuracy: 0.9644 - val_loss: 0.2620 - val_accuracy: 0.9223\n",
            "Epoch 28/100\n",
            "10/10 [==============================] - 0s 7ms/step - loss: 0.2011 - accuracy: 0.9417 - val_loss: 0.2659 - val_accuracy: 0.9223\n",
            "Epoch 29/100\n",
            "10/10 [==============================] - 0s 8ms/step - loss: 0.2092 - accuracy: 0.9450 - val_loss: 0.2577 - val_accuracy: 0.9320\n",
            "Epoch 30/100\n",
            "10/10 [==============================] - 0s 9ms/step - loss: 0.1769 - accuracy: 0.9612 - val_loss: 0.2468 - val_accuracy: 0.9320\n",
            "Epoch 31/100\n",
            "10/10 [==============================] - 0s 8ms/step - loss: 0.1934 - accuracy: 0.9385 - val_loss: 0.2407 - val_accuracy: 0.9320\n",
            "Epoch 32/100\n",
            "10/10 [==============================] - 0s 7ms/step - loss: 0.2062 - accuracy: 0.9482 - val_loss: 0.2314 - val_accuracy: 0.9320\n",
            "Epoch 33/100\n",
            "10/10 [==============================] - 0s 7ms/step - loss: 0.1542 - accuracy: 0.9547 - val_loss: 0.2263 - val_accuracy: 0.9320\n",
            "Epoch 34/100\n",
            "10/10 [==============================] - 0s 8ms/step - loss: 0.1715 - accuracy: 0.9579 - val_loss: 0.2225 - val_accuracy: 0.9320\n",
            "Epoch 35/100\n",
            "10/10 [==============================] - 0s 6ms/step - loss: 0.1665 - accuracy: 0.9644 - val_loss: 0.2291 - val_accuracy: 0.9417\n",
            "Epoch 36/100\n",
            "10/10 [==============================] - 0s 9ms/step - loss: 0.1714 - accuracy: 0.9515 - val_loss: 0.2344 - val_accuracy: 0.9417\n",
            "Epoch 37/100\n",
            "10/10 [==============================] - 0s 8ms/step - loss: 0.1484 - accuracy: 0.9515 - val_loss: 0.2454 - val_accuracy: 0.9417\n",
            "Epoch 38/100\n",
            "10/10 [==============================] - 0s 8ms/step - loss: 0.1747 - accuracy: 0.9547 - val_loss: 0.2416 - val_accuracy: 0.9223\n",
            "Epoch 39/100\n",
            "10/10 [==============================] - 0s 7ms/step - loss: 0.1361 - accuracy: 0.9644 - val_loss: 0.2102 - val_accuracy: 0.9417\n",
            "Epoch 40/100\n",
            "10/10 [==============================] - 0s 8ms/step - loss: 0.1271 - accuracy: 0.9709 - val_loss: 0.2002 - val_accuracy: 0.9417\n",
            "Epoch 41/100\n",
            "10/10 [==============================] - 0s 9ms/step - loss: 0.1437 - accuracy: 0.9709 - val_loss: 0.1957 - val_accuracy: 0.9417\n",
            "Epoch 42/100\n",
            "10/10 [==============================] - 0s 7ms/step - loss: 0.1223 - accuracy: 0.9644 - val_loss: 0.1949 - val_accuracy: 0.9417\n",
            "Epoch 43/100\n",
            "10/10 [==============================] - 0s 7ms/step - loss: 0.1346 - accuracy: 0.9612 - val_loss: 0.1973 - val_accuracy: 0.9417\n",
            "Epoch 44/100\n",
            "10/10 [==============================] - 0s 8ms/step - loss: 0.1256 - accuracy: 0.9612 - val_loss: 0.1964 - val_accuracy: 0.9417\n",
            "Epoch 45/100\n",
            "10/10 [==============================] - 0s 7ms/step - loss: 0.1102 - accuracy: 0.9709 - val_loss: 0.1892 - val_accuracy: 0.9417\n",
            "Epoch 46/100\n",
            "10/10 [==============================] - 0s 8ms/step - loss: 0.1183 - accuracy: 0.9741 - val_loss: 0.2031 - val_accuracy: 0.9417\n",
            "Epoch 47/100\n",
            "10/10 [==============================] - 0s 8ms/step - loss: 0.0986 - accuracy: 0.9773 - val_loss: 0.1990 - val_accuracy: 0.9417\n",
            "Epoch 48/100\n",
            "10/10 [==============================] - 0s 7ms/step - loss: 0.1457 - accuracy: 0.9612 - val_loss: 0.1961 - val_accuracy: 0.9417\n",
            "Epoch 49/100\n",
            "10/10 [==============================] - 0s 8ms/step - loss: 0.1416 - accuracy: 0.9515 - val_loss: 0.2030 - val_accuracy: 0.9417\n",
            "Epoch 50/100\n",
            "10/10 [==============================] - 0s 7ms/step - loss: 0.1124 - accuracy: 0.9709 - val_loss: 0.1993 - val_accuracy: 0.9417\n"
          ]
        }
      ]
    },
    {
      "cell_type": "code",
      "source": [
        "test_loss, test_accuracy = model.evaluate(X_test, y_test)\n",
        "print(f'Test Loss: {test_loss:.4f}')\n",
        "print(f'Test Accuracy: {test_accuracy:.4f}')"
      ],
      "metadata": {
        "colab": {
          "base_uri": "https://localhost:8080/"
        },
        "id": "rlRjw8JJD45j",
        "outputId": "287a190c-732a-4b01-dba5-77074dfeca17"
      },
      "execution_count": null,
      "outputs": [
        {
          "output_type": "stream",
          "name": "stdout",
          "text": [
            "5/5 [==============================] - 0s 3ms/step - loss: 0.2211 - accuracy: 0.9348\n",
            "Test Loss: 0.2211\n",
            "Test Accuracy: 0.9348\n"
          ]
        }
      ]
    },
    {
      "cell_type": "code",
      "source": [
        "y_pred = model.predict(X_test)\n",
        "y_pred_classes = np.argmax(y_pred, axis=1)\n",
        "y_test_original = label_encoder_y.inverse_transform(y_test)\n",
        "y_pred_classes_original = label_encoder_y.inverse_transform(y_pred_classes)\n",
        "print('\\nClassification Report:')\n",
        "print(classification_report(y_test_original, y_pred_classes_original))"
      ],
      "metadata": {
        "colab": {
          "base_uri": "https://localhost:8080/"
        },
        "id": "MNPxUYfd66KU",
        "outputId": "ac97b682-135e-4e32-fb37-bfb69110e1ed"
      },
      "execution_count": null,
      "outputs": [
        {
          "output_type": "stream",
          "name": "stdout",
          "text": [
            "5/5 [==============================] - 0s 3ms/step\n",
            "\n",
            "Classification Report:\n",
            "                            precision    recall  f1-score   support\n",
            "\n",
            "           masalah knalpot       0.89      1.00      0.94        17\n",
            "             masalah mesin       0.93      0.95      0.94        43\n",
            "         masalah pendingin       0.67      0.50      0.57         4\n",
            "               masalah rem       1.00      0.80      0.89         5\n",
            "masalah sistem bahan bakar       0.96      0.96      0.96        26\n",
            "         masalah transmisi       0.95      0.93      0.94        43\n",
            "\n",
            "                  accuracy                           0.93       138\n",
            "                 macro avg       0.90      0.86      0.88       138\n",
            "              weighted avg       0.93      0.93      0.93       138\n",
            "\n"
          ]
        }
      ]
    },
    {
      "cell_type": "code",
      "source": [
        "plt.plot(history.history['loss'], label='Train Loss')\n",
        "plt.plot(history.history['accuracy'], label='Train Accuracy')\n",
        "plt.plot(history.history['val_loss'], label='Validation Loss')\n",
        "plt.plot(history.history['val_accuracy'], label='Validation Accuracy')\n",
        "plt.xlabel('Epochs')\n",
        "plt.ylabel('Metrics')\n",
        "plt.legend()\n",
        "plt.show()"
      ],
      "metadata": {
        "colab": {
          "base_uri": "https://localhost:8080/",
          "height": 449
        },
        "id": "O7VP0KwTD9mn",
        "outputId": "48319a4c-c590-4bf5-efb9-2a7603681194"
      },
      "execution_count": null,
      "outputs": [
        {
          "output_type": "display_data",
          "data": {
            "text/plain": [
              "<Figure size 640x480 with 1 Axes>"
            ],
            "image/png": "[encoded data removed]"
          },
          "metadata": {}
        }
      ]
    },
    {
      "cell_type": "code",
      "source": [
        "model.save('bengkel_model.h5')\n",
        "\n",
        "joblib.dump(label_encoder_tahun, 'label_encoder_tahun.joblib')\n",
        "joblib.dump(label_encoder_km_motor, 'label_encoder_km_motor.joblib')\n",
        "joblib.dump(label_encoder_gejala1, 'label_encoder_gejala1.joblib')\n",
        "joblib.dump(label_encoder_gejala2, 'label_encoder_gejala2.joblib')\n",
        "joblib.dump(label_encoder_gejala3, 'label_encoder_gejala3.joblib')\n",
        "joblib.dump(label_encoder_pernah_servis, 'label_encoder_pernah_servis.joblib')\n",
        "joblib.dump(label_encoder_merk_motor, 'label_encoder_merk_motor.joblib')\n",
        "joblib.dump(label_encoder_jenis_motor, 'label_encoder_jenis_motor.joblib')\n",
        "joblib.dump(encoder, 'encoder.joblib')"
      ],
      "metadata": {
        "colab": {
          "base_uri": "https://localhost:8080/"
        },
        "id": "-mNspJI3EfMT",
        "outputId": "4e33e9aa-8759-4898-9bcb-5c6cf9db5772"
      },
      "execution_count": null,
      "outputs": [
        {
          "output_type": "stream",
          "name": "stderr",
          "text": [
            "/usr/local/lib/python3.10/dist-packages/keras/src/engine/training.py:3103: UserWarning: You are saving your model as an HDF5 file via `model.save()`. This file format is considered legacy. We recommend using instead the native Keras format, e.g. `model.save('my_model.keras')`.\n",
            "  saving_api.save_model(\n"
          ]
        },
        {
          "output_type": "execute_result",
          "data": {
            "text/plain": [
              "['encoder.joblib']"
            ]
          },
          "metadata": {},
          "execution_count": 42
        }
      ]
    },
    {
      "cell_type": "code",
      "source": [
        "loaded_model = load_model('bengkel_model.h5')\n",
        "label_encoder_tahun = joblib.load('label_encoder_tahun.joblib')\n",
        "label_encoder_km_motor = joblib.load('label_encoder_km_motor.joblib')\n",
        "label_encoder_gejala1 = joblib.load('label_encoder_gejala1.joblib')\n",
        "label_encoder_gejala2 = joblib.load('label_encoder_gejala2.joblib')\n",
        "label_encoder_gejala3 = joblib.load('label_encoder_gejala3.joblib')\n",
        "label_encoder_pernah_servis = joblib.load('label_encoder_pernah_servis.joblib')\n",
        "label_encoder_merk_motor = joblib.load('label_encoder_merk_motor.joblib')\n",
        "label_encoder_jenis_motor = joblib.load('label_encoder_jenis_motor.joblib')\n",
        "encoder = joblib.load('encoder.joblib')\n",
        "scaler = joblib.load('scaler.joblib')\n"
      ],
      "metadata": {
        "id": "AAq8H-FbE3sr"
      },
      "execution_count": null,
      "outputs": []
    },
    {
      "cell_type": "code",
      "source": [
        "user_input_data = {\n",
        "    'gejala1': 'kebocoran oli',\n",
        "    'gejala2': 'suara aneh',\n",
        "    'gejala3': 'sulit distarter',\n",
        "    'jenis_motor': 'matic',\n",
        "    'merk_motor': 'yamaha',\n",
        "    'tahun': 2019,\n",
        "    'km_motor': 15000,\n",
        "    'pernah_servis': 'ya'\n",
        "}\n",
        "\n",
        "user_input_df = pd.DataFrame([user_input_data])\n",
        "user_input_df['gejala1'] = label_encoder_gejala1.transform(user_input_df['gejala1'])\n",
        "user_input_df['gejala2'] = label_encoder_gejala2.transform(user_input_df['gejala2'])\n",
        "user_input_df['gejala3'] = label_encoder_gejala3.transform(user_input_df['gejala3'])\n",
        "user_input_df['pernah_servis'] = label_encoder_pernah_servis.transform(user_input_df['pernah_servis'])\n",
        "user_input_df['merk_motor'] = label_encoder_merk_motor.transform(user_input_df['merk_motor'])\n",
        "user_input_df['jenis_motor'] = label_encoder_jenis_motor.transform(user_input_df['jenis_motor'])\n",
        "\n",
        "X_categorical_encoded = encoder.transform(user_input_df[['gejala1', 'gejala2', 'gejala3', 'pernah_servis', 'merk_motor', 'jenis_motor']])\n",
        "\n",
        "numerical_features = ['tahun', 'km_motor']\n",
        "X_numerical_scaled = scaler.transform(user_input_df[numerical_features])\n",
        "\n",
        "user_input_combined = np.concatenate([X_numerical_scaled, X_categorical_encoded], axis=1)\n",
        "\n",
        "predictions = loaded_model.predict(user_input_combined)\n",
        "predicted_class = np.argmax(predictions)\n",
        "confidence = predictions[0][predicted_class]\n",
        "predicted_class_label = label_encoder_y.inverse_transform([predicted_class])\n",
        "\n",
        "print(f\"Predicted Class: {predicted_class_label[0]}\")\n",
        "print(f\"Confidence: {confidence:.4f}\")"
      ],
      "metadata": {
        "colab": {
          "base_uri": "https://localhost:8080/"
        },
        "id": "rPhDiC1xFBg5",
        "outputId": "9a3a0aa6-3699-4ce0-9c7d-04306ae312db"
      },
      "execution_count": null,
      "outputs": [
        {
          "output_type": "stream",
          "name": "stdout",
          "text": [
            "1/1 [==============================] - 0s 67ms/step\n",
            "Predicted Class: masalah mesin\n",
            "Confidence: 0.9971\n"
          ]
        }
      ]
    },
    {
      "cell_type": "code",
      "source": [
        "user_input_data = {\n",
        "    'gejala1': 'hilangnya tenaga',\n",
        "    'gejala2': 'asap berlebihan',\n",
        "    'gejala3': 'mesin mati mendadak',\n",
        "    'jenis_motor': 'matic',\n",
        "    'merk_motor': 'honda',\n",
        "    'tahun': 2020,\n",
        "    'km_motor': 18000,\n",
        "    'pernah_servis': 'ya'\n",
        "}\n",
        "\n",
        "user_input_df = pd.DataFrame([user_input_data])\n",
        "user_input_df['gejala1'] = label_encoder_gejala1.transform(user_input_df['gejala1'])\n",
        "user_input_df['gejala2'] = label_encoder_gejala2.transform(user_input_df['gejala2'])\n",
        "user_input_df['gejala3'] = label_encoder_gejala3.transform(user_input_df['gejala3'])\n",
        "user_input_df['pernah_servis'] = label_encoder_pernah_servis.transform(user_input_df['pernah_servis'])\n",
        "user_input_df['merk_motor'] = label_encoder_merk_motor.transform(user_input_df['merk_motor'])\n",
        "user_input_df['jenis_motor'] = label_encoder_jenis_motor.transform(user_input_df['jenis_motor'])\n",
        "\n",
        "X_categorical_encoded = encoder.transform(user_input_df[['gejala1', 'gejala2', 'gejala3', 'pernah_servis', 'merk_motor', 'jenis_motor']])\n",
        "numerical_features = ['tahun', 'km_motor']\n",
        "X_numerical_scaled = scaler.transform(user_input_df[numerical_features])\n",
        "\n",
        "user_input_combined = np.concatenate([X_numerical_scaled, X_categorical_encoded], axis=1)\n",
        "\n",
        "predictions = loaded_model.predict(user_input_combined)\n",
        "predicted_class = np.argmax(predictions)\n",
        "confidence = predictions[0][predicted_class]\n",
        "predicted_class_label = label_encoder_y.inverse_transform([predicted_class])\n",
        "\n",
        "print(f\"Predicted Class: {predicted_class_label[0]}\")\n",
        "print(f\"Confidence: {confidence:.4f}\")\n"
      ],
      "metadata": {
        "colab": {
          "base_uri": "https://localhost:8080/"
        },
        "id": "H4inUWIBFSmF",
        "outputId": "9404c002-c5b3-4016-98f4-3a8bf086dcbd"
      },
      "execution_count": null,
      "outputs": [
        {
          "output_type": "stream",
          "name": "stdout",
          "text": [
            "1/1 [==============================] - 0s 21ms/step\n",
            "Predicted Class: masalah sistem bahan bakar\n",
            "Confidence: 0.9985\n"
          ]
        }
      ]
    }
  ],
  "metadata": {
    "colab": {
      "provenance": []
    },
    "kernelspec": {
      "display_name": "Python 3",
      "name": "python3"
    },
    "language_info": {
      "name": "python"
    }
  },
  "nbformat": 4,
  "nbformat_minor": 0
}